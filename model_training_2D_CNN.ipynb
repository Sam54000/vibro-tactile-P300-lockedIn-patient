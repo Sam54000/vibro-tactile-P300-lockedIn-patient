{
  "nbformat": 4,
  "nbformat_minor": 0,
  "metadata": {
    "colab": {
      "name": "model_training_P2.ipynb",
      "provenance": [],
      "collapsed_sections": []
    },
    "kernelspec": {
      "name": "python3",
      "display_name": "Python 3"
    },
    "language_info": {
      "name": "python"
    },
    "accelerator": "GPU"
  },
  "cells": [
    {
      "cell_type": "code",
      "source": [
        "import os\n",
        "import tensorflow as tf\n",
        "from tensorflow.keras.preprocessing import image\n",
        "from tensorflow.keras.preprocessing.image import ImageDataGenerator\n",
        "from tensorflow.keras import Model\n",
        "import matplotlib.pyplot as plt"
      ],
      "metadata": {
        "id": "BsWwVKKTu47_"
      },
      "execution_count": 1,
      "outputs": []
    },
    {
      "cell_type": "code",
      "execution_count": 2,
      "metadata": {
        "colab": {
          "base_uri": "https://localhost:8080/"
        },
        "id": "XtjZGIGUr7pU",
        "outputId": "c9c0fa21-6158-4843-e768-e06980217d37"
      },
      "outputs": [
        {
          "output_type": "stream",
          "name": "stdout",
          "text": [
            "Mounted at /content/drive\n"
          ]
        }
      ],
      "source": [
        "from google.colab import drive\n",
        "drive.mount('/content/drive')"
      ]
    },
    {
      "cell_type": "code",
      "source": [
        "train_dir = '/content/drive/MyDrive/GTec/Dataset/Patient 2/Train'\n",
        "validation_dir = '/content/drive/MyDrive/GTec/Dataset/Patient 2/Validation'"
      ],
      "metadata": {
        "id": "EJ6EUmaMsg_H"
      },
      "execution_count": 3,
      "outputs": []
    },
    {
      "cell_type": "code",
      "source": [
        "train_1_dir = os.path.join(train_dir, '1')\n",
        "train_2_dir = os.path.join(train_dir,'2')\n",
        "train_3_dir = os.path.join(train_dir, '3')\n",
        "\n",
        "validation_1_dir = os.path.join(validation_dir, '1')\n",
        "validation_2_dir = os.path.join(validation_dir,'2')\n",
        "validation_3_dir = os.path.join(validation_dir, '3')"
      ],
      "metadata": {
        "id": "C5Jtkd-_uuZH"
      },
      "execution_count": 4,
      "outputs": []
    },
    {
      "cell_type": "code",
      "source": [
        "print(f'total training - 1 images = {len(os.listdir(train_1_dir))}')\n",
        "print(f'total training - 2 images = {len(os.listdir(train_2_dir))}')\n",
        "print(f'total training - 3 images = {len(os.listdir(train_3_dir))}')\n",
        "\n",
        "print(f'total validation - 1 images = {len(os.listdir(validation_1_dir))}')\n",
        "print(f'total validation - 2 images = {len(os.listdir(validation_2_dir))}')\n",
        "print(f'total validation - 3 images = {len(os.listdir(validation_3_dir))}')"
      ],
      "metadata": {
        "colab": {
          "base_uri": "https://localhost:8080/"
        },
        "id": "791iSlVzvEMr",
        "outputId": "c2521bd9-b6b3-4865-94ab-ce7aaa0fd9f4"
      },
      "execution_count": 5,
      "outputs": [
        {
          "output_type": "stream",
          "name": "stdout",
          "text": [
            "total training - 1 images = 1152\n",
            "total training - 2 images = 1152\n",
            "total training - 3 images = 1152\n",
            "total validation - 1 images = 144\n",
            "total validation - 2 images = 144\n",
            "total validation - 3 images = 144\n"
          ]
        }
      ]
    },
    {
      "cell_type": "code",
      "source": [
        "training_datagen  = ImageDataGenerator(rescale = 1./255)\n",
        "test_datagen = ImageDataGenerator(rescale = 1./255)\n",
        "\n",
        "training_generator = training_datagen.flow_from_directory(train_dir, batch_size = 144, target_size = (224,224),class_mode = 'categorical')\n",
        "validation_generator = test_datagen.flow_from_directory(validation_dir, batch_size = 144, target_size = (224,224), class_mode = 'categorical')\n",
        "\n",
        "# inputs = tf.keras.Input(shape = (224,224,3))\n",
        "# x = tf.keras.layers.Conv2D(64, (3,3), activation = 'relu')(inputs)\n",
        "# x = tf.keras.layers.MaxPooling2D(2,2)(x)\n",
        "# x = tf.keras.layers.Conv2D(64,(3,3), activation = 'relu')(x)\n",
        "# x = tf.keras.layers.MaxPooling2D(2,2)(x)\n",
        "# x = tf.keras.layers.Conv2D(128, (3,3), activation = 'relu')(x)\n",
        "# x = tf.keras.layers.MaxPooling2D(2,2)(x)\n",
        "# x = tf.keras.layers.Conv2D(128, (3,3), activation = 'relu')(x)\n",
        "# x = tf.keras.layers.MaxPooling2D(2,2)(x)\n",
        "# x = tf.keras.layers.Flatten()(x)\n",
        "# x = tf.keras.layers.Dropout(0.2)(x)\n",
        "# x = tf.keras.layers.Dense(512, activation = 'relu')(x)\n",
        "# outputs = tf.keras.layers.Dense(3, activation = 'softmax')(x)\n",
        "\n",
        "# model = Model(inputs = inputs, outputs = outputs)\n",
        "modPath = '/content/drive/MyDrive/GTec/Models/simple_CNN_1_P2.h5'\n",
        "model = tf.keras.models.load_model(modPath)\n",
        "model.summary()"
      ],
      "metadata": {
        "colab": {
          "base_uri": "https://localhost:8080/"
        },
        "id": "TDdCfV-NvWV3",
        "outputId": "7614090a-6af5-4d72-f8bb-aa90f90eef9c"
      },
      "execution_count": 6,
      "outputs": [
        {
          "output_type": "stream",
          "name": "stdout",
          "text": [
            "Found 3456 images belonging to 3 classes.\n",
            "Found 432 images belonging to 3 classes.\n",
            "Model: \"model\"\n",
            "_________________________________________________________________\n",
            " Layer (type)                Output Shape              Param #   \n",
            "=================================================================\n",
            " input_1 (InputLayer)        [(None, 224, 224, 3)]     0         \n",
            "                                                                 \n",
            " conv2d (Conv2D)             (None, 222, 222, 64)      1792      \n",
            "                                                                 \n",
            " max_pooling2d (MaxPooling2D  (None, 111, 111, 64)     0         \n",
            " )                                                               \n",
            "                                                                 \n",
            " conv2d_1 (Conv2D)           (None, 109, 109, 64)      36928     \n",
            "                                                                 \n",
            " max_pooling2d_1 (MaxPooling  (None, 54, 54, 64)       0         \n",
            " 2D)                                                             \n",
            "                                                                 \n",
            " conv2d_2 (Conv2D)           (None, 52, 52, 128)       73856     \n",
            "                                                                 \n",
            " max_pooling2d_2 (MaxPooling  (None, 26, 26, 128)      0         \n",
            " 2D)                                                             \n",
            "                                                                 \n",
            " conv2d_3 (Conv2D)           (None, 24, 24, 128)       147584    \n",
            "                                                                 \n",
            " max_pooling2d_3 (MaxPooling  (None, 12, 12, 128)      0         \n",
            " 2D)                                                             \n",
            "                                                                 \n",
            " flatten (Flatten)           (None, 18432)             0         \n",
            "                                                                 \n",
            " dropout (Dropout)           (None, 18432)             0         \n",
            "                                                                 \n",
            " dense (Dense)               (None, 512)               9437696   \n",
            "                                                                 \n",
            " dense_1 (Dense)             (None, 3)                 1539      \n",
            "                                                                 \n",
            "=================================================================\n",
            "Total params: 9,699,395\n",
            "Trainable params: 9,699,395\n",
            "Non-trainable params: 0\n",
            "_________________________________________________________________\n"
          ]
        }
      ]
    },
    {
      "cell_type": "code",
      "source": [
        "model.compile(loss = 'categorical_crossentropy', optimizer = 'rmsprop', metrics = ['accuracy'] )\n",
        "\n",
        "history = model.fit(training_generator, \n",
        "                   validation_data = validation_generator,\n",
        "                   steps_per_epoch = 8,\n",
        "                   epochs = 25,\n",
        "                   validation_steps= 1)"
      ],
      "metadata": {
        "colab": {
          "base_uri": "https://localhost:8080/"
        },
        "id": "iMksABAjweyP",
        "outputId": "43782081-7c69-4afb-c803-adabbbbb68b6"
      },
      "execution_count": 7,
      "outputs": [
        {
          "output_type": "stream",
          "name": "stdout",
          "text": [
            "Epoch 1/25\n",
            "8/8 [==============================] - 455s 56s/step - loss: 1.3204 - accuracy: 0.5113 - val_loss: 0.8808 - val_accuracy: 0.5764\n",
            "Epoch 2/25\n",
            "8/8 [==============================] - 246s 31s/step - loss: 0.8623 - accuracy: 0.5530 - val_loss: 0.8387 - val_accuracy: 0.5417\n",
            "Epoch 3/25\n",
            "8/8 [==============================] - 157s 20s/step - loss: 0.8067 - accuracy: 0.6007 - val_loss: 0.8642 - val_accuracy: 0.5486\n",
            "Epoch 4/25\n",
            "8/8 [==============================] - 98s 12s/step - loss: 0.7838 - accuracy: 0.6016 - val_loss: 0.8032 - val_accuracy: 0.5694\n",
            "Epoch 5/25\n",
            "8/8 [==============================] - 77s 10s/step - loss: 0.8104 - accuracy: 0.5868 - val_loss: 0.8690 - val_accuracy: 0.5139\n",
            "Epoch 6/25\n",
            "8/8 [==============================] - 65s 8s/step - loss: 0.8079 - accuracy: 0.5816 - val_loss: 0.7434 - val_accuracy: 0.5903\n",
            "Epoch 7/25\n",
            "8/8 [==============================] - 55s 7s/step - loss: 0.7179 - accuracy: 0.6467 - val_loss: 0.9330 - val_accuracy: 0.5139\n",
            "Epoch 8/25\n",
            "8/8 [==============================] - 47s 6s/step - loss: 0.7664 - accuracy: 0.6207 - val_loss: 0.6468 - val_accuracy: 0.7222\n",
            "Epoch 9/25\n",
            "8/8 [==============================] - 43s 5s/step - loss: 0.7415 - accuracy: 0.6467 - val_loss: 0.8111 - val_accuracy: 0.6250\n",
            "Epoch 10/25\n",
            "8/8 [==============================] - 42s 5s/step - loss: 0.6713 - accuracy: 0.7005 - val_loss: 0.7133 - val_accuracy: 0.6667\n",
            "Epoch 11/25\n",
            "8/8 [==============================] - 40s 5s/step - loss: 0.6645 - accuracy: 0.6771 - val_loss: 0.7047 - val_accuracy: 0.6667\n",
            "Epoch 12/25\n",
            "8/8 [==============================] - 39s 5s/step - loss: 0.6352 - accuracy: 0.7031 - val_loss: 0.6379 - val_accuracy: 0.6944\n",
            "Epoch 13/25\n",
            "8/8 [==============================] - 40s 5s/step - loss: 0.6236 - accuracy: 0.7214 - val_loss: 0.6697 - val_accuracy: 0.7292\n",
            "Epoch 14/25\n",
            "8/8 [==============================] - 38s 5s/step - loss: 0.5512 - accuracy: 0.7622 - val_loss: 0.4714 - val_accuracy: 0.8125\n",
            "Epoch 15/25\n",
            "8/8 [==============================] - 38s 5s/step - loss: 0.5731 - accuracy: 0.7595 - val_loss: 0.9222 - val_accuracy: 0.5903\n",
            "Epoch 16/25\n",
            "8/8 [==============================] - 38s 5s/step - loss: 0.5743 - accuracy: 0.7405 - val_loss: 0.4273 - val_accuracy: 0.8194\n",
            "Epoch 17/25\n",
            "8/8 [==============================] - 38s 5s/step - loss: 0.4653 - accuracy: 0.8038 - val_loss: 0.5795 - val_accuracy: 0.7847\n",
            "Epoch 18/25\n",
            "8/8 [==============================] - 38s 5s/step - loss: 0.5340 - accuracy: 0.7674 - val_loss: 0.4852 - val_accuracy: 0.7708\n",
            "Epoch 19/25\n",
            "8/8 [==============================] - 38s 5s/step - loss: 0.4959 - accuracy: 0.7873 - val_loss: 0.4278 - val_accuracy: 0.8056\n",
            "Epoch 20/25\n",
            "8/8 [==============================] - 37s 5s/step - loss: 0.4055 - accuracy: 0.8385 - val_loss: 0.5488 - val_accuracy: 0.7500\n",
            "Epoch 21/25\n",
            "8/8 [==============================] - 37s 5s/step - loss: 0.3975 - accuracy: 0.8307 - val_loss: 0.3609 - val_accuracy: 0.8472\n",
            "Epoch 22/25\n",
            "8/8 [==============================] - 37s 5s/step - loss: 0.4167 - accuracy: 0.8290 - val_loss: 0.6100 - val_accuracy: 0.7708\n",
            "Epoch 23/25\n",
            "8/8 [==============================] - 37s 5s/step - loss: 0.3901 - accuracy: 0.8368 - val_loss: 0.3967 - val_accuracy: 0.8333\n",
            "Epoch 24/25\n",
            "8/8 [==============================] - 37s 5s/step - loss: 0.3025 - accuracy: 0.8819 - val_loss: 0.5399 - val_accuracy: 0.7778\n",
            "Epoch 25/25\n",
            "8/8 [==============================] - 37s 5s/step - loss: 0.3350 - accuracy: 0.8655 - val_loss: 0.2544 - val_accuracy: 0.9167\n"
          ]
        }
      ]
    },
    {
      "cell_type": "code",
      "source": [
        "# model.save('simple_CNN.h5')"
      ],
      "metadata": {
        "id": "kfiYpdOX4ALt"
      },
      "execution_count": null,
      "outputs": []
    },
    {
      "cell_type": "code",
      "source": [
        "model.save('/content/drive/MyDrive/GTec/Models/simple_CNN_1_P2.h5')"
      ],
      "metadata": {
        "id": "G77Mncz84GO8"
      },
      "execution_count": 8,
      "outputs": []
    },
    {
      "cell_type": "code",
      "source": [
        "acc = history.history['accuracy']\n",
        "val_acc = history.history['val_accuracy']\n",
        "loss = history.history['loss']\n",
        "val_loss = history.history['val_loss']\n",
        "\n",
        "epochs = range(len(acc))\n",
        "\n",
        "plt.plot(epochs, acc, 'r', label='training accuracy')\n",
        "plt.plot(epochs, val_acc, 'b', label ='validation accuracy')\n",
        "plt.title('training and validation accuracy')\n",
        "plt.legend(loc = 0)\n",
        "plt.figure()\n",
        "\n",
        "plt.plot(epochs, loss, 'r', label = 'training loss')\n",
        "plt.plot(epochs, val_loss, 'b', label ='validation loss')\n",
        "plt.title('training and validation loss')\n",
        "plt.legend(loc = 0)\n",
        "plt.figure()\n",
        "\n",
        "plt.show()"
      ],
      "metadata": {
        "colab": {
          "base_uri": "https://localhost:8080/",
          "height": 564
        },
        "id": "IuoYkInd4WQU",
        "outputId": "6e13bff6-1613-4c42-fc58-03a87e6cfbc6"
      },
      "execution_count": 9,
      "outputs": [
        {
          "output_type": "display_data",
          "data": {
            "text/plain": [
              "<Figure size 432x288 with 1 Axes>"
            ],
            "image/png": "[encoded data removed]"
          },
          "metadata": {
            "needs_background": "light"
          }
        },
        {
          "output_type": "display_data",
          "data": {
            "text/plain": [
              "<Figure size 432x288 with 1 Axes>"
            ],
            "image/png": "[encoded data removed]"
          },
          "metadata": {
            "needs_background": "light"
          }
        },
        {
          "output_type": "display_data",
          "data": {
            "text/plain": [
              "<Figure size 432x288 with 0 Axes>"
            ]
          },
          "metadata": {}
        }
      ]
    },
    {
      "cell_type": "code",
      "source": [
        "# # testing the model on a selected image\n",
        "# import numpy as np\n",
        "\n",
        "# path  = os.path.join('/content/drive/MyDrive/GTec/Dataset/Patient 2/Test', input())\n",
        "\n",
        "# img = image.load_img(path, target_size= (224,224))\n",
        "# x = image.img_to_array(img)\n",
        "# x = np.expand_dims(x, axis = 0)\n",
        "\n",
        "# classes = model.predict(x)\n",
        "# print(classes)"
      ],
      "metadata": {
        "colab": {
          "base_uri": "https://localhost:8080/"
        },
        "id": "ADyivXOv4eOP",
        "outputId": "c4dbfb2f-bc4c-4b5d-a184-5e4b99f8a151"
      },
      "execution_count": null,
      "outputs": [
        {
          "output_type": "stream",
          "name": "stdout",
          "text": [
            "1/1_0.png\n",
            "[[1.000000e+00 0.000000e+00 1.028954e-20]]\n"
          ]
        }
      ]
    },
    {
      "cell_type": "code",
      "source": [
        "modPath = '/content/drive/MyDrive/GTec/Models/simple_CNN_1_P2.h5'\n",
        "saved_model = tf.keras.models.load_model(modPath)\n",
        "saved_model.summary()"
      ],
      "metadata": {
        "colab": {
          "base_uri": "https://localhost:8080/"
        },
        "id": "G3gem5bx46A6",
        "outputId": "855eb20a-a655-4d4c-cfca-10d2aedc3bfe"
      },
      "execution_count": 3,
      "outputs": [
        {
          "output_type": "stream",
          "name": "stdout",
          "text": [
            "Model: \"model\"\n",
            "_________________________________________________________________\n",
            " Layer (type)                Output Shape              Param #   \n",
            "=================================================================\n",
            " input_1 (InputLayer)        [(None, 224, 224, 3)]     0         \n",
            "                                                                 \n",
            " conv2d (Conv2D)             (None, 222, 222, 64)      1792      \n",
            "                                                                 \n",
            " max_pooling2d (MaxPooling2D  (None, 111, 111, 64)     0         \n",
            " )                                                               \n",
            "                                                                 \n",
            " conv2d_1 (Conv2D)           (None, 109, 109, 64)      36928     \n",
            "                                                                 \n",
            " max_pooling2d_1 (MaxPooling  (None, 54, 54, 64)       0         \n",
            " 2D)                                                             \n",
            "                                                                 \n",
            " conv2d_2 (Conv2D)           (None, 52, 52, 128)       73856     \n",
            "                                                                 \n",
            " max_pooling2d_2 (MaxPooling  (None, 26, 26, 128)      0         \n",
            " 2D)                                                             \n",
            "                                                                 \n",
            " conv2d_3 (Conv2D)           (None, 24, 24, 128)       147584    \n",
            "                                                                 \n",
            " max_pooling2d_3 (MaxPooling  (None, 12, 12, 128)      0         \n",
            " 2D)                                                             \n",
            "                                                                 \n",
            " flatten (Flatten)           (None, 18432)             0         \n",
            "                                                                 \n",
            " dropout (Dropout)           (None, 18432)             0         \n",
            "                                                                 \n",
            " dense (Dense)               (None, 512)               9437696   \n",
            "                                                                 \n",
            " dense_1 (Dense)             (None, 3)                 1539      \n",
            "                                                                 \n",
            "=================================================================\n",
            "Total params: 9,699,395\n",
            "Trainable params: 9,699,395\n",
            "Non-trainable params: 0\n",
            "_________________________________________________________________\n"
          ]
        }
      ]
    },
    {
      "cell_type": "code",
      "source": [
        "test_datagen = ImageDataGenerator(rescale = 1./255)\n",
        "test_path = '/content/drive/MyDrive/GTec/Dataset/Patient 2/Test'\n",
        "\n",
        "test_generator = test_datagen.flow_from_directory(test_path,\n",
        "                                                     target_size = (224, 224),\n",
        "                                                     batch_size = 72,\n",
        "                                                     class_mode = 'categorical', shuffle = False)\n"
      ],
      "metadata": {
        "colab": {
          "base_uri": "https://localhost:8080/"
        },
        "id": "8tuLG3m08Gif",
        "outputId": "96df57eb-93e6-4fce-eb13-e8f3599fb3e0"
      },
      "execution_count": 8,
      "outputs": [
        {
          "output_type": "stream",
          "name": "stdout",
          "text": [
            "Found 432 images belonging to 3 classes.\n"
          ]
        }
      ]
    },
    {
      "cell_type": "code",
      "source": [
        "loss, acc = saved_model.evaluate(test_generator, verbose=2)\n",
        "print('Restored model, accuracy: {:5.2f}%'.format(100 * acc))"
      ],
      "metadata": {
        "colab": {
          "base_uri": "https://localhost:8080/"
        },
        "id": "vp1S4Y-J8WBA",
        "outputId": "76901251-b595-4567-c459-ec1c5caa7900"
      },
      "execution_count": 5,
      "outputs": [
        {
          "output_type": "stream",
          "name": "stdout",
          "text": [
            "6/6 - 80s - loss: 0.3366 - accuracy: 0.8750 - 80s/epoch - 13s/step\n",
            "Restored model, accuracy: 87.50%\n"
          ]
        }
      ]
    },
    {
      "cell_type": "code",
      "source": [
        "import numpy as np\n",
        "import matplotlib.pyplot as plt\n",
        "from matplotlib.pyplot import imshow\n",
        "import seaborn as sns\n",
        "from sklearn.metrics import classification_report, confusion_matrix\n",
        "\n",
        "sns.set_style('darkgrid')\n",
        "def cm_cr(test_gen, model):\n",
        "    preds=model.predict(test_gen)    \n",
        "    labels=test_gen.labels\n",
        "    classes=list(test_gen.class_indices.keys()) # ordered lst of class names \n",
        "    pred_list=[ ] # will store the predicted classes here\n",
        "    true_list=[]\n",
        "    for i, p in enumerate (preds):\n",
        "        index=np.argmax(p)\n",
        "        pred_list.append(classes[index])\n",
        "        true_list.append(classes[labels[i]])\n",
        "    y_pred=np.array(pred_list)\n",
        "    y_true=np.array(true_list)\n",
        "    clr = classification_report(y_true, y_pred, target_names=classes)\n",
        "    print(\"Classification Report:\\n----------------------\\n\", clr)\n",
        "    cm = confusion_matrix(y_true, y_pred )        \n",
        "    length=len(classes)\n",
        "    if length<8:\n",
        "        fig_width=8\n",
        "        fig_height=8\n",
        "    else:\n",
        "        fig_width= int(length * .5)\n",
        "        fig_height= int(length * .5)\n",
        "    plt.figure(figsize=(fig_width, fig_height))\n",
        "    sns.heatmap(cm, annot=True, vmin=0, fmt='g', cmap='Blues', cbar=False)       \n",
        "    plt.xticks(np.arange(length)+.5, classes, rotation= 90, fontsize=16)\n",
        "    plt.yticks(np.arange(length)+.5, classes, rotation=0, fontsize=16)\n",
        "    plt.xlabel(\"Predicted\")\n",
        "    plt.ylabel(\"Actual\")\n",
        "    plt.title(\"Confusion Matrix\")\n",
        "    plt.show()\n",
        "\n",
        "cm_cr(test_generator, saved_model)"
      ],
      "metadata": {
        "id": "LNOzg6DY8bld",
        "colab": {
          "base_uri": "https://localhost:8080/",
          "height": 732
        },
        "outputId": "aecc91bd-da7b-4c28-bc39-5d0bcd534fc9"
      },
      "execution_count": 9,
      "outputs": [
        {
          "output_type": "stream",
          "name": "stdout",
          "text": [
            "Classification Report:\n",
            "----------------------\n",
            "               precision    recall  f1-score   support\n",
            "\n",
            "           1       0.80      0.90      0.85       144\n",
            "           2       0.97      0.82      0.89       144\n",
            "           3       0.88      0.90      0.89       144\n",
            "\n",
            "    accuracy                           0.88       432\n",
            "   macro avg       0.88      0.88      0.88       432\n",
            "weighted avg       0.88      0.88      0.88       432\n",
            "\n"
          ]
        },
        {
          "output_type": "display_data",
          "data": {
            "text/plain": [
              "<Figure size 576x576 with 1 Axes>"
            ],
            "image/png": "[encoded data removed]"
          },
          "metadata": {}
        }
      ]
    },
    {
      "cell_type": "code",
      "source": [
        "import visualkeras"
      ],
      "metadata": {
        "colab": {
          "base_uri": "https://localhost:8080/",
          "height": 316
        },
        "id": "4_9cqcCN4mp2",
        "outputId": "8f4cde9b-8eaa-49f9-e0a6-c5828a7640b0"
      },
      "execution_count": 10,
      "outputs": [
        {
          "output_type": "error",
          "ename": "ModuleNotFoundError",
          "evalue": "ignored",
          "traceback": [
            "\u001b[0;31m---------------------------------------------------------------------------\u001b[0m",
            "\u001b[0;31mModuleNotFoundError\u001b[0m                       Traceback (most recent call last)",
            "\u001b[0;32m<ipython-input-10-a438327ec5de>\u001b[0m in \u001b[0;36m<module>\u001b[0;34m()\u001b[0m\n\u001b[0;32m----> 1\u001b[0;31m \u001b[0;32mimport\u001b[0m \u001b[0mvisualkeras\u001b[0m\u001b[0;34m\u001b[0m\u001b[0;34m\u001b[0m\u001b[0m\n\u001b[0m",
            "\u001b[0;31mModuleNotFoundError\u001b[0m: No module named 'visualkeras'",
            "",
            "\u001b[0;31m---------------------------------------------------------------------------\u001b[0;32m\nNOTE: If your import is failing due to a missing package, you can\nmanually install dependencies using either !pip or !apt.\n\nTo view examples of installing some common dependencies, click the\n\"Open Examples\" button below.\n\u001b[0;31m---------------------------------------------------------------------------\u001b[0m\n"
          ],
          "errorDetails": {
            "actions": [
              {
                "action": "open_url",
                "actionText": "Open Examples",
                "url": "/notebooks/snippets/importing_libraries.ipynb"
              }
            ]
          }
        }
      ]
    },
    {
      "cell_type": "code",
      "source": [
        ""
      ],
      "metadata": {
        "id": "W62ivu0s8bWi"
      },
      "execution_count": null,
      "outputs": []
    }
  ]
}